{
 "cells": [
  {
   "cell_type": "code",
   "execution_count": 66,
   "metadata": {
    "collapsed": false
   },
   "outputs": [
    {
     "name": "stderr",
     "output_type": "stream",
     "text": [
      "/Users/markdessain/Envs/python3/lib/python3.5/site-packages/matplotlib/__init__.py:1350: UserWarning:  This call to matplotlib.use() has no effect\n",
      "because the backend has already been chosen;\n",
      "matplotlib.use() must be called *before* pylab, matplotlib.pyplot,\n",
      "or matplotlib.backends is imported for the first time.\n",
      "\n",
      "  warnings.warn(_use_error_msg)\n"
     ]
    }
   ],
   "source": [
    "%matplotlib inline\n",
    "import matplotlib\n",
    "matplotlib.use('TkAgg')\n"
   ]
  },
  {
   "cell_type": "code",
   "execution_count": 210,
   "metadata": {
    "collapsed": true
   },
   "outputs": [],
   "source": [
    "\n",
    "from redis_helper import MyRedis\n",
    "\n",
    "db = MyRedis()"
   ]
  },
  {
   "cell_type": "code",
   "execution_count": 211,
   "metadata": {
    "collapsed": true
   },
   "outputs": [],
   "source": [
    "def aaa():\n",
    "    for timestamp, score in db.zrangebyscore('index:score:created_at_hour', '-inf', '+inf', withscores=True):\n",
    "        yield int(timestamp), int(score)"
   ]
  },
  {
   "cell_type": "code",
   "execution_count": 212,
   "metadata": {
    "collapsed": false
   },
   "outputs": [],
   "source": [
    "import pandas as pd\n",
    "import numpy as np\n",
    "\n",
    "df = pd.DataFrame(data=aaa(), columns=['datetime', 'num_of_tweets'])\n"
   ]
  },
  {
   "cell_type": "code",
   "execution_count": 213,
   "metadata": {
    "collapsed": false
   },
   "outputs": [],
   "source": [
    "df['datetime'] = pd.to_datetime(df['datetime'],unit='s')\n",
    "# df['datetime'] = df.datetime.astype(np.int64)"
   ]
  },
  {
   "cell_type": "code",
   "execution_count": 214,
   "metadata": {
    "collapsed": false
   },
   "outputs": [
    {
     "data": {
      "text/plain": [
       "<matplotlib.axes._subplots.AxesSubplot at 0x11469a320>"
      ]
     },
     "execution_count": 214,
     "metadata": {},
     "output_type": "execute_result"
    },
    {
     "data": {
      "image/png": "[encoded data removed]",
      "text/plain": [
       "<matplotlib.figure.Figure at 0x114a71470>"
      ]
     },
     "metadata": {},
     "output_type": "display_data"
    }
   ],
   "source": [
    "import datetime\n",
    "df2 = df[(df.datetime > datetime.datetime(2016, 6, 6)) & (df.datetime < datetime.datetime(2016, 6, 13))]\n",
    "# df2 = df[(df.num_of_tweets < 3000)]\n",
    "\n",
    "df2.plot(x='datetime', y='num_of_tweets', figsize=(20,10))"
   ]
  },
  {
   "cell_type": "code",
   "execution_count": 215,
   "metadata": {
    "collapsed": false
   },
   "outputs": [
    {
     "data": {
      "text/html": [
       "<img src=\"https://pbs.twimg.com/media/ClAbCBIUgAApFBk.jpg\"/>"
      ],
      "text/plain": [
       "<IPython.core.display.Image object>"
      ]
     },
     "metadata": {},
     "output_type": "display_data"
    },
    {
     "data": {
      "text/html": [
       "<img src=\"https://pbs.twimg.com/amplify_video_thumb/742111497652862976/img/cRuPSFVuIexsUfBp.jpg\"/>"
      ],
      "text/plain": [
       "<IPython.core.display.Image object>"
      ]
     },
     "metadata": {},
     "output_type": "display_data"
    },
    {
     "data": {
      "text/html": [
       "<img src=\"https://pbs.twimg.com/media/ClAPYX2XEAApAnX.jpg\"/>"
      ],
      "text/plain": [
       "<IPython.core.display.Image object>"
      ]
     },
     "metadata": {},
     "output_type": "display_data"
    },
    {
     "data": {
      "text/html": [
       "<img src=\"https://pbs.twimg.com/amplify_video_thumb/742116871466455040/img/kWVzVa8aFj6tczM6.jpg\"/>"
      ],
      "text/plain": [
       "<IPython.core.display.Image object>"
      ]
     },
     "metadata": {},
     "output_type": "display_data"
    },
    {
     "data": {
      "text/html": [
       "<img src=\"https://pbs.twimg.com/ext_tw_video_thumb/742404764084801537/pu/img/B5OjBbpiCbqwm35G.jpg\"/>"
      ],
      "text/plain": [
       "<IPython.core.display.Image object>"
      ]
     },
     "metadata": {},
     "output_type": "display_data"
    },
    {
     "data": {
      "text/html": [
       "<img src=\"https://pbs.twimg.com/media/Ck2KZ5JUUAAJkeH.jpg\"/>"
      ],
      "text/plain": [
       "<IPython.core.display.Image object>"
      ]
     },
     "metadata": {},
     "output_type": "display_data"
    },
    {
     "data": {
      "text/html": [
       "<img src=\"https://pbs.twimg.com/media/Ckx-MQaUgAETZwf.jpg\"/>"
      ],
      "text/plain": [
       "<IPython.core.display.Image object>"
      ]
     },
     "metadata": {},
     "output_type": "display_data"
    },
    {
     "data": {
      "text/html": [
       "<img src=\"https://pbs.twimg.com/media/ClGP5XUWAAEm_xR.jpg\"/>"
      ],
      "text/plain": [
       "<IPython.core.display.Image object>"
      ]
     },
     "metadata": {},
     "output_type": "display_data"
    },
    {
     "data": {
      "text/html": [
       "<img src=\"https://pbs.twimg.com/media/ClHG0rnWAAE-3h2.jpg\"/>"
      ],
      "text/plain": [
       "<IPython.core.display.Image object>"
      ]
     },
     "metadata": {},
     "output_type": "display_data"
    },
    {
     "data": {
      "text/html": [
       "<img src=\"https://pbs.twimg.com/amplify_video_thumb/742104488467517441/img/8Kszl2ld2qHQBVlY.jpg\"/>"
      ],
      "text/plain": [
       "<IPython.core.display.Image object>"
      ]
     },
     "metadata": {},
     "output_type": "display_data"
    },
    {
     "data": {
      "text/html": [
       "<img src=\"https://pbs.twimg.com/media/ClG9RKOWMAAL-vg.jpg\"/>"
      ],
      "text/plain": [
       "<IPython.core.display.Image object>"
      ]
     },
     "metadata": {},
     "output_type": "display_data"
    },
    {
     "data": {
      "text/html": [
       "<img src=\"https://pbs.twimg.com/media/ClFmtUiUgAEiKZ-.jpg\"/>"
      ],
      "text/plain": [
       "<IPython.core.display.Image object>"
      ]
     },
     "metadata": {},
     "output_type": "display_data"
    },
    {
     "data": {
      "text/html": [
       "<img src=\"https://pbs.twimg.com/media/ClBGT3nUkAA-Ebx.jpg\"/>"
      ],
      "text/plain": [
       "<IPython.core.display.Image object>"
      ]
     },
     "metadata": {},
     "output_type": "display_data"
    },
    {
     "data": {
      "text/html": [
       "<img src=\"https://pbs.twimg.com/amplify_video_thumb/742111154265161728/img/AWnJTTm6-SeuzM_X.jpg\"/>"
      ],
      "text/plain": [
       "<IPython.core.display.Image object>"
      ]
     },
     "metadata": {},
     "output_type": "display_data"
    },
    {
     "data": {
      "text/html": [
       "<img src=\"https://pbs.twimg.com/media/ClKwSxrVEAAVDPr.jpg\"/>"
      ],
      "text/plain": [
       "<IPython.core.display.Image object>"
      ]
     },
     "metadata": {},
     "output_type": "display_data"
    },
    {
     "data": {
      "text/html": [
       "<img src=\"https://pbs.twimg.com/media/CkyPCkYUUAAuMAl.jpg\"/>"
      ],
      "text/plain": [
       "<IPython.core.display.Image object>"
      ]
     },
     "metadata": {},
     "output_type": "display_data"
    },
    {
     "data": {
      "text/html": [
       "<img src=\"https://pbs.twimg.com/media/ClGCKeEWIAAkOkl.jpg\"/>"
      ],
      "text/plain": [
       "<IPython.core.display.Image object>"
      ]
     },
     "metadata": {},
     "output_type": "display_data"
    },
    {
     "data": {
      "text/html": [
       "<img src=\"https://pbs.twimg.com/media/ClF0b4zWEAAbexm.jpg\"/>"
      ],
      "text/plain": [
       "<IPython.core.display.Image object>"
      ]
     },
     "metadata": {},
     "output_type": "display_data"
    },
    {
     "data": {
      "text/html": [
       "<img src=\"https://pbs.twimg.com/media/ClAdH95UUAAVoYW.jpg\"/>"
      ],
      "text/plain": [
       "<IPython.core.display.Image object>"
      ]
     },
     "metadata": {},
     "output_type": "display_data"
    },
    {
     "data": {
      "text/html": [
       "<img src=\"https://pbs.twimg.com/media/Ckx5a_AUUAAtHpr.jpg\"/>"
      ],
      "text/plain": [
       "<IPython.core.display.Image object>"
      ]
     },
     "metadata": {},
     "output_type": "display_data"
    },
    {
     "data": {
      "text/html": [
       "<img src=\"https://pbs.twimg.com/amplify_video_thumb/742110010218450950/img/s32uxayr_7iin4-X.jpg\"/>"
      ],
      "text/plain": [
       "<IPython.core.display.Image object>"
      ]
     },
     "metadata": {},
     "output_type": "display_data"
    }
   ],
   "source": [
    "from IPython.display import Image, display\n",
    "\n",
    "import matplotlib.pyplot as plt\n",
    "\n",
    "images = [\n",
    "    display(Image(url=url.decode()), width=1000, height=1000)\n",
    "    for url in db.zrange('index:score:media', 0, 20, desc=True)\n",
    "]\n",
    "\n",
    "# help(Image)\n"
   ]
  },
  {
   "cell_type": "code",
   "execution_count": 216,
   "metadata": {
    "collapsed": false
   },
   "outputs": [
    {
     "data": {
      "text/plain": [
       "['battlefield',\n",
       " 'ign',\n",
       " 'bfbulletin',\n",
       " 'xbox',\n",
       " 'snoopdogg',\n",
       " 'nvidia',\n",
       " 'ea_dice',\n",
       " 'eaaccess',\n",
       " 'ea',\n",
       " 'doom49',\n",
       " 'nvidiageforce']"
      ]
     },
     "execution_count": 216,
     "metadata": {},
     "output_type": "execute_result"
    }
   ],
   "source": [
    "[\n",
    "    screen_name.decode()\n",
    "    for screen_name in db.zrange('index:score:user_mentions', 0, 10, desc=True)\n",
    "]\n"
   ]
  },
  {
   "cell_type": "code",
   "execution_count": 217,
   "metadata": {
    "collapsed": false
   },
   "outputs": [
    {
     "data": {
      "text/plain": [
       "['battlefield',\n",
       " 'battlefield1',\n",
       " 'bf1',\n",
       " 'e32016',\n",
       " 'e3',\n",
       " 'eaplay',\n",
       " 'gameready',\n",
       " 'xboxe3',\n",
       " 'xboxone',\n",
       " 'bfsquadspromo',\n",
       " 'xbox']"
      ]
     },
     "execution_count": 217,
     "metadata": {},
     "output_type": "execute_result"
    }
   ],
   "source": [
    "[\n",
    "    screen_name.decode()\n",
    "    for screen_name in db.zrange('index:score:hashtags', 0, 10, desc=True)\n",
    "]\n"
   ]
  },
  {
   "cell_type": "code",
   "execution_count": 218,
   "metadata": {
    "collapsed": false
   },
   "outputs": [
    {
     "name": "stdout",
     "output_type": "stream",
     "text": [
      "RT @thetafferboy: EA hiring for #Battlefield1 team https://t.co/zJcm0ofpGI\n",
      "I'm a grown man, coming up on 45 this Sept. 1st, and I can not wait to play @Battlefield 1!  BRING IT!!! #battlefield1\n",
      "Watch how #battlefield fans reacted to #battlefield1 trailer😀😀😀\n",
      "https://t.co/vGvhPZ58dY\n",
      "https://t.co/4hmSWo2w4X\n",
      "RT @Nat0_o: It's a wrap!!! #E3 #E32016 #Battlefield1 #BF1 https://t.co/nW2HDQ5AfW\n",
      "RT @The_Jitsu: #E3 Watching E3 coverage and looking forward to #GOW4 and #Battlefield1 on @Xbox\n",
      "RT @Mr_video_Gamer Battlefield 1 gameplay looks awesome! #Battlefield1 #gaming #E3 #WW1 #EA https://t.co/MD9YEPW3ML\n",
      "\"...most of Battlefield 1 at this early stage feels like Bad Company 2.\" #MusicToMyEars\n",
      "\n",
      "#Battlefield1\n",
      "\n",
      "https://t.co/TPaF02fFDj\n",
      "RT @xQueenSerenityx: Check your @Snapchat stories! Look for me under @IGN and #battlefield1 reactions 🙈🎮 The game is amazing 👍🏼 https://t.c…\n",
      "RT @werejul: It's a wrap for me at #E3. Astonishing reaction from all who played #Battlefield1. And now: sleep. https://t.co/wcjQDJeR39\n",
      "Battlefield 1 gameplay looks awesome! #Battlefield1 #gaming #E3 #WW1 #EA https://t.co/AFBOdM5lLr\n",
      "RT @strix_lab: Dynamic weather system in #Battlefield1 ? Here's our very own! #adinfinitum @strix_lab sadly not at #E32016 https://t.co/RWQ…\n",
      "#Battlefield1 is amazing! Here are my thoughts on the game so far! https://t.co/orVkdaeeae #Youtube https://t.co/09nTggh05j\n",
      "I've had too much time on my hands. I literally just finished researching German Empire because I saw a weird gun on #Battlefield1\n",
      "The French Are Premium DLC In #Battlefield1 https://t.co/WAVnZFRwv1\n",
      "Talked to a kid on #Overwatch last night who was angry abt women in #Battlefield1 being historically inaccurate. #smh\n",
      "#Battlefield1 The Good, The Bad and The DLC Ugly - oh and some mayonnaise too! https://t.co/BPOpcXMBDg\n",
      "RT @IGN: .@SnoopDogg playing #Battlefield1 like a boss.\n",
      "https://t.co/Ur1QnPV0TP\n",
      "RT @RECfilming: Battlefield 1 User Interface has that SWBF feel #Battlefield1 https://t.co/mttTa77739\n",
      "#Battlefield1 wird so der Anti-Kiddie Shooter 😍👌😆 #lt\n",
      "People complaining about character diversity in #Battlefield1 who the fuck cares, it's a 1st person shooter, you can't see yourself\n",
      "Who's hyped for\n",
      "\n",
      "#battlefield1\n",
      "#forzahorizon3\n",
      "@NVIDIAGeForce @nvidia that rig there would really make me #GameReady! I need that to get in and pwn people in #Battlefield1 when it is out!\n",
      "RT @HalfArsedMedia: Here are our thoughts on #EAPlay at #E3 as it happened! #Titanfall2 #Battlefield1 #FIFA17 #StarWars https://t.co/bplX6x…\n",
      "In Anticipation of #BattleField1\n",
      "\n",
      "What's better? #TheDivision or #Battlefield4?\n",
      "\n",
      "https://t.co/Rqn3j2R8H7\n",
      "\n",
      "#BF4\n",
      "#BF1\n",
      "#TomClancy\n",
      "#GAMERLIFE\n",
      "Battlefield 1 User Interface has that SWBF feel #Battlefield1 https://t.co/mttTa77739\n",
      "Check your @Snapchat stories! Look for me under @IGN and #battlefield1 reactions 🙈🎮 The game is amazing 👍🏼 https://t.co/OrreqS8tAk\n",
      "RT @bumpynucklz: Day 32 @EA_Battlefield @EA @EA_DICE @Battlefield Battlefield 1 Needs Sgt. Stubby! #SgtStubby for #Battlefield1 https://t.c…\n",
      "The latest The WSGF Weekly! https://t.co/dFJpaVANMJ Thanks to @GarnettLee @GamersNexus @camera_updates #e32016 #battlefield1\n",
      "RT @ADHamilton91: So I wrote something about #Battlefield1 and its lack of female soldiers in multiplayer: https://t.co/H9ppHyPwzP | @GameG…\n",
      "The truth! Who what the #battlefield1 stream. Battlefield1 looks amazing! #battlefield1 #amazing #YouTube #EA https://t.co/GEzofwn9iL\n",
      "Wanna play as a French soldier in BF 1 MP. Fuck you give me money. Gee thx EA #Battlefield1\n",
      "RT @Nat0_o: 40 million views! Wow... just wow! #Battlefield1 #BF1 https://t.co/JgkM3GrQq9\n",
      "RT @DICEbf_intel: private first class II #battlefield1 https://t.co/uyFvMFCAnR\n",
      "https://t.co/pFM0uUMY6N Playing some BF4!! #Battlefield #Battlefield1 #Hype\n",
      "\n",
      "New streamer\n",
      "With the closing of Battlelog forums, I have a strong belief that #Battlefield1 will not use Battlelog. Sad face\n",
      "Battlefield 1 had my interest for three whole days this time. Then EA announced a quarter of the game will be DLC. Figures. #battlefield1\n",
      "Day 32 @EA_Battlefield @EA @EA_DICE @Battlefield Battlefield 1 Needs Sgt. Stubby! #SgtStubby for #Battlefield1 https://t.co/y8ieIU9MNT\n",
      "I'm in the running to win a copy of Battlefield 1 #RoadToBattlefield1 #Battlefield1 https://t.co/eYHfnJUlVk\n",
      "So I wrote something about #Battlefield1 and its lack of female soldiers in multiplayer: https://t.co/H9ppHyPwzP | @GameGrin\n"
     ]
    }
   ],
   "source": [
    "import json\n",
    "ids = set()\n",
    "\n",
    "for tweet_id in db.zrange('index:tweet:hashtags:battlefield1', 0, 50, desc=True):\n",
    "    tweet = json.loads(db.get('tweet:%s' % tweet_id.decode()).decode())\n",
    "    \n",
    "    if tweet['original_id_str']:\n",
    "        if tweet['original_id_str'] not in ids:\n",
    "            tweet = json.loads(db.get('tweet:%s' % tweet['original_id_str']).decode())\n",
    "            ids.add(tweet['id_str'])\n",
    "        else:\n",
    "            tweet = None\n",
    "        \n",
    "    if tweet:\n",
    "        print(json.loads(db.get('tweet:%s' % tweet_id.decode()).decode())['text'])\n",
    "# print(ids)"
   ]
  },
  {
   "cell_type": "code",
   "execution_count": null,
   "metadata": {
    "collapsed": true
   },
   "outputs": [],
   "source": []
  },
  {
   "cell_type": "code",
   "execution_count": null,
   "metadata": {
    "collapsed": true
   },
   "outputs": [],
   "source": []
  }
 ],
 "metadata": {
  "kernelspec": {
   "display_name": "Python 3",
   "language": "python",
   "name": "python3"
  },
  "language_info": {
   "codemirror_mode": {
    "name": "ipython",
    "version": 3
   },
   "file_extension": ".py",
   "mimetype": "text/x-python",
   "name": "python",
   "nbconvert_exporter": "python",
   "pygments_lexer": "ipython3",
   "version": "3.5.1"
  }
 },
 "nbformat": 4,
 "nbformat_minor": 0
}
